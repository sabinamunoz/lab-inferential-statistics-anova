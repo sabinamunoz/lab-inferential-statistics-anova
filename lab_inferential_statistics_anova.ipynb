{
  "cells": [
    {
      "cell_type": "markdown",
      "metadata": {
        "id": "view-in-github",
        "colab_type": "text"
      },
      "source": [
        "<a href=\"https://colab.research.google.com/github/sabinamunoz/lab-inferential-statistics-anova/blob/master/lab_inferential_statistics_anova.ipynb\" target=\"_parent\"><img src=\"https://colab.research.google.com/assets/colab-badge.svg\" alt=\"Open In Colab\"/></a>"
      ]
    },
    {
      "cell_type": "markdown",
      "id": "593ca588",
      "metadata": {
        "id": "593ca588"
      },
      "source": [
        "#### **1.Null hypothesis**\n",
        "* H0: equal etching rate means for all power levels\n",
        "#### **Alternative hypothesis**\n",
        "* Ha: at least one different etching rate mean of power levels"
      ]
    },
    {
      "cell_type": "markdown",
      "id": "83aa286e",
      "metadata": {
        "id": "83aa286e"
      },
      "source": [
        "#### **Significance level**\n",
        "* 0.05\n",
        "\n",
        "#### **DoF**\n",
        "* model DoF: 2\n",
        "* error: 12\n",
        "* total: 14"
      ]
    },
    {
      "cell_type": "markdown",
      "id": "a22d7972",
      "metadata": {
        "id": "a22d7972"
      },
      "source": [
        "#### **2. ANOVA**"
      ]
    },
    {
      "cell_type": "code",
      "execution_count": null,
      "id": "d11b4d21",
      "metadata": {
        "id": "d11b4d21"
      },
      "outputs": [],
      "source": [
        "import pandas as pd\n",
        "import numpy as np\n",
        "import statsmodels.api as sm\n",
        "from statsmodels.formula.api import ols"
      ]
    },
    {
      "cell_type": "code",
      "execution_count": null,
      "id": "144424a6",
      "metadata": {
        "id": "144424a6",
        "outputId": "4061b901-6f12-4003-840a-31c8a1644db1"
      },
      "outputs": [
        {
          "data": {
            "text/html": [
              "<div>\n",
              "<style scoped>\n",
              "    .dataframe tbody tr th:only-of-type {\n",
              "        vertical-align: middle;\n",
              "    }\n",
              "\n",
              "    .dataframe tbody tr th {\n",
              "        vertical-align: top;\n",
              "    }\n",
              "\n",
              "    .dataframe thead th {\n",
              "        text-align: right;\n",
              "    }\n",
              "</style>\n",
              "<table border=\"1\" class=\"dataframe\">\n",
              "  <thead>\n",
              "    <tr style=\"text-align: right;\">\n",
              "      <th></th>\n",
              "      <th>power_</th>\n",
              "      <th>etching_rate</th>\n",
              "    </tr>\n",
              "  </thead>\n",
              "  <tbody>\n",
              "    <tr>\n",
              "      <th>0</th>\n",
              "      <td>160 W</td>\n",
              "      <td>5.43</td>\n",
              "    </tr>\n",
              "    <tr>\n",
              "      <th>1</th>\n",
              "      <td>180 W</td>\n",
              "      <td>6.24</td>\n",
              "    </tr>\n",
              "    <tr>\n",
              "      <th>2</th>\n",
              "      <td>200 W</td>\n",
              "      <td>8.79</td>\n",
              "    </tr>\n",
              "    <tr>\n",
              "      <th>3</th>\n",
              "      <td>160 W</td>\n",
              "      <td>5.71</td>\n",
              "    </tr>\n",
              "    <tr>\n",
              "      <th>4</th>\n",
              "      <td>180 W</td>\n",
              "      <td>6.71</td>\n",
              "    </tr>\n",
              "    <tr>\n",
              "      <th>5</th>\n",
              "      <td>200 W</td>\n",
              "      <td>9.20</td>\n",
              "    </tr>\n",
              "    <tr>\n",
              "      <th>6</th>\n",
              "      <td>160 W</td>\n",
              "      <td>6.22</td>\n",
              "    </tr>\n",
              "    <tr>\n",
              "      <th>7</th>\n",
              "      <td>180 W</td>\n",
              "      <td>5.98</td>\n",
              "    </tr>\n",
              "    <tr>\n",
              "      <th>8</th>\n",
              "      <td>200 W</td>\n",
              "      <td>7.90</td>\n",
              "    </tr>\n",
              "    <tr>\n",
              "      <th>9</th>\n",
              "      <td>160 W</td>\n",
              "      <td>6.01</td>\n",
              "    </tr>\n",
              "    <tr>\n",
              "      <th>10</th>\n",
              "      <td>180 W</td>\n",
              "      <td>5.66</td>\n",
              "    </tr>\n",
              "    <tr>\n",
              "      <th>11</th>\n",
              "      <td>200 W</td>\n",
              "      <td>8.15</td>\n",
              "    </tr>\n",
              "    <tr>\n",
              "      <th>12</th>\n",
              "      <td>160 W</td>\n",
              "      <td>5.59</td>\n",
              "    </tr>\n",
              "    <tr>\n",
              "      <th>13</th>\n",
              "      <td>180 W</td>\n",
              "      <td>6.60</td>\n",
              "    </tr>\n",
              "    <tr>\n",
              "      <th>14</th>\n",
              "      <td>200 W</td>\n",
              "      <td>7.55</td>\n",
              "    </tr>\n",
              "  </tbody>\n",
              "</table>\n",
              "</div>"
            ],
            "text/plain": [
              "   power_  etching_rate\n",
              "0   160 W          5.43\n",
              "1   180 W          6.24\n",
              "2   200 W          8.79\n",
              "3   160 W          5.71\n",
              "4   180 W          6.71\n",
              "5   200 W          9.20\n",
              "6   160 W          6.22\n",
              "7   180 W          5.98\n",
              "8   200 W          7.90\n",
              "9   160 W          6.01\n",
              "10  180 W          5.66\n",
              "11  200 W          8.15\n",
              "12  160 W          5.59\n",
              "13  180 W          6.60\n",
              "14  200 W          7.55"
            ]
          },
          "execution_count": 7,
          "metadata": {},
          "output_type": "execute_result"
        }
      ],
      "source": [
        "df = pd.read_excel('files_for_lab/anova_lab_data.xlsx', sheet_name='data_collected')\n",
        "df.columns = df.columns.str.lower().str.replace(' ', '_')\n",
        "df"
      ]
    },
    {
      "cell_type": "code",
      "execution_count": null,
      "id": "46a56057",
      "metadata": {
        "id": "46a56057",
        "outputId": "e9aae3a7-0cd6-4f38-fd00-c59db75557b2"
      },
      "outputs": [
        {
          "data": {
            "text/html": [
              "<div>\n",
              "<style scoped>\n",
              "    .dataframe tbody tr th:only-of-type {\n",
              "        vertical-align: middle;\n",
              "    }\n",
              "\n",
              "    .dataframe tbody tr th {\n",
              "        vertical-align: top;\n",
              "    }\n",
              "\n",
              "    .dataframe thead th {\n",
              "        text-align: right;\n",
              "    }\n",
              "</style>\n",
              "<table border=\"1\" class=\"dataframe\">\n",
              "  <thead>\n",
              "    <tr style=\"text-align: right;\">\n",
              "      <th></th>\n",
              "      <th>df</th>\n",
              "      <th>sum_sq</th>\n",
              "      <th>mean_sq</th>\n",
              "      <th>F</th>\n",
              "      <th>PR(&gt;F)</th>\n",
              "    </tr>\n",
              "  </thead>\n",
              "  <tbody>\n",
              "    <tr>\n",
              "      <th>C(power_)</th>\n",
              "      <td>2.0</td>\n",
              "      <td>18.176653</td>\n",
              "      <td>9.088327</td>\n",
              "      <td>36.878955</td>\n",
              "      <td>0.000008</td>\n",
              "    </tr>\n",
              "    <tr>\n",
              "      <th>Residual</th>\n",
              "      <td>12.0</td>\n",
              "      <td>2.957240</td>\n",
              "      <td>0.246437</td>\n",
              "      <td>NaN</td>\n",
              "      <td>NaN</td>\n",
              "    </tr>\n",
              "  </tbody>\n",
              "</table>\n",
              "</div>"
            ],
            "text/plain": [
              "             df     sum_sq   mean_sq          F    PR(>F)\n",
              "C(power_)   2.0  18.176653  9.088327  36.878955  0.000008\n",
              "Residual   12.0   2.957240  0.246437        NaN       NaN"
            ]
          },
          "execution_count": 8,
          "metadata": {},
          "output_type": "execute_result"
        }
      ],
      "source": [
        "model = ols('etching_rate ~ C(power_ \t)', data=df).fit()\n",
        "sm.stats.anova_lm(model)"
      ]
    },
    {
      "cell_type": "markdown",
      "id": "63e74d0c",
      "metadata": {
        "id": "63e74d0c"
      },
      "source": [
        "## **Conclusion**"
      ]
    },
    {
      "cell_type": "markdown",
      "id": "891fa96b",
      "metadata": {
        "id": "891fa96b"
      },
      "source": [
        "#### P-value 0.000008 is below significance level of 0.05\n",
        "* Null hypothesis rejected, at least one power level produces a different mean etching rate"
      ]
    }
  ],
  "metadata": {
    "kernelspec": {
      "display_name": "Python 3 (ipykernel)",
      "language": "python",
      "name": "python3"
    },
    "language_info": {
      "codemirror_mode": {
        "name": "ipython",
        "version": 3
      },
      "file_extension": ".py",
      "mimetype": "text/x-python",
      "name": "python",
      "nbconvert_exporter": "python",
      "pygments_lexer": "ipython3",
      "version": "3.10.9"
    },
    "colab": {
      "provenance": [],
      "include_colab_link": true
    }
  },
  "nbformat": 4,
  "nbformat_minor": 5
}